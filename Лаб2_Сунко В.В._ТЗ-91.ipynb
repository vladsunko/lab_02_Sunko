{
  "cells": [
    {
      "cell_type": "code",
      "execution_count": 3,
      "metadata": {
        "id": "AL1tu-YdFviy"
      },
      "outputs": [],
      "source": [
        "class Employee:\n",
        "    def __init__(self, name, l_name, salary, exp):\n",
        "        self.name = name\n",
        "        self.last_name = l_name\n",
        "        self.base_salary = salary\n",
        "        self.experience = exp\n",
        "\n",
        "\n",
        "class Developer(Employee):\n",
        "    def __init__(self, name, l_name, salary, exp):\n",
        "       super().__init__(name, l_name, salary, exp)\n",
        "       \n",
        "\n",
        "class Designer(Employee):\n",
        "    def __init__(self, name, l_name, salary, exp, er):\n",
        "       super().__init__(name, l_name, salary, exp)\n",
        "       self.er = er\n",
        "\n",
        "class Manager(Employee):\n",
        "    def __init__(self, name, l_name, salary, exp, team):\n",
        "       super().__init__(name, l_name, salary, exp)\n",
        "       self.team = team   \n",
        "\n",
        "\n",
        "class Department:\n",
        "    def __init__(self, managers):\n",
        "         self.managers = managers\n",
        "    \n",
        "    def giveSalary(self):\n",
        "        print('\\n'.join(self.countedSalary()))\n",
        "\n",
        "    def countedSalary(self):\n",
        "        ans = []\n",
        "        for m in self.managers:\n",
        "            salary = m.base_salary\n",
        "            if m.experience > 5:   salary = salary*1.2 + 500\n",
        "            elif m.experience > 2: salary += 200\n",
        "\n",
        "            if len(m.team)>10: salary += 300\n",
        "            elif len(m.team)>5: salary += 200\n",
        "            \n",
        "            if sum(isinstance(x, Developer) for x in m.team)>len(m.team)/2: salary *= 1.1\n",
        "            ans.append(f'\\n{m.name} {m.last_name} отримав(-ла) {salary} шекєлей')\n",
        "\n",
        "            for e in m.team:\n",
        "                salary = e.base_salary\n",
        "\n",
        "                if e.experience > 5:\n",
        "                    salary = salary*1.2 + 500\n",
        "                elif e.experience > 2:\n",
        "                    salary += 200\n",
        "                \n",
        "                if isinstance(e, Designer):\n",
        "                    salary *= e.er\n",
        "\n",
        "                ans.append(f'   {e.name} {e.last_name} отримав(-ла) {salary} шекєлей')\n",
        "\n",
        "        return ans"
      ]
    },
    {
      "cell_type": "code",
      "execution_count": 4,
      "metadata": {
        "id": "LKQvN4XrIFAf"
      },
      "outputs": [],
      "source": [
        "department = Department(\n",
        "    [\n",
        "        Manager('Ольга', 'Максименко', 5500, 7,\n",
        "                [\n",
        "                    Designer('Владислава',  'Шоколадка', 2100, 1,   0.2),\n",
        "                    Designer('Наталья',  'Владимировна',      5400, 1.2, 0.3),\n",
        "                    Designer('Анатолий',   'Жук',     1200, 1.5, 0.7),\n",
        "                    Designer('Кирилл',    'Сергеевич',   5000, 2.5, 0.2),\n",
        "                    Developer('Ігор', 'Прогер',   5500, 7)\n",
        "                ]),\n",
        "        Manager('Илья', 'Сокол', 5400, 8,\n",
        "                [\n",
        "                    Designer('Дмитро', 'Лисий',    5600,   1.1,   0.7),\n",
        "                    Designer('Владимир',   'Лемешко', 2300,   2.5, 1.3),\n",
        "                    Developer('Диана',    'Гора',  3800,   2.7),\n",
        "                    Developer('Михайло',  'Бондаренко',    3900,   7),\n",
        "                    Developer('Анастасия',  'Потапенко',    1900, 0.3),\n",
        "                ]),\n",
        "        Manager('Денис', 'Ермоленко', 5600, 5,\n",
        "                [\n",
        "                    Designer('Ольга',     'Барановна',    6400, 2,   3.5),\n",
        "                    Designer('Віка',    'Щедровна', 2300, 1.6, 1),\n",
        "                    Designer('Олег',    'Петрович',    4500, 2.5,   1.9),\n",
        "                    Designer('Марина',    'Кравчук',    7400, 6,   0.4),\n",
        "                    Designer('Вася',    'Василько',  1200, 1.5, 0.3),\n",
        "                    Designer('Руслан',    'Ющенко',    5000, 1.5, 0.3),\n",
        "                    Developer('Назар',    'Карп',    7800, 5),\n",
        "                    Developer('Володимир',    'Грінченко',     1200, 1.5),\n",
        "                    Developer('Світлана',      'Борисова',   1000, 0.4),\n",
        "                    Developer('Олексій',    'Петров',   2300, 1.2),\n",
        "                    Developer('Сандра',  'Ненси',    1700, 0.5)\n",
        "                ])\n",
        "        \n",
        "    ])"
      ]
    }
  ],
  "metadata": {
    "colab": {
      "provenance": []
    },
    "kernelspec": {
      "display_name": "Python 3",
      "name": "python3"
    },
    "language_info": {
      "codemirror_mode": {
        "name": "ipython",
        "version": 3
      },
      "file_extension": ".py",
      "mimetype": "text/x-python",
      "name": "python",
      "nbconvert_exporter": "python",
      "pygments_lexer": "ipython3",
      "version": "3.10.10"
    }
  },
  "nbformat": 4,
  "nbformat_minor": 0
}
